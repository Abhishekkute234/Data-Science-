{
 "cells": [
  {
   "cell_type": "code",
   "execution_count": null,
   "id": "0c28fde3-0e2d-41bf-8678-13481e93232e",
   "metadata": {},
   "outputs": [],
   "source": []
  }
 ],
 "metadata": {
  "kernelspec": {
   "display_name": "",
   "name": ""
  },
  "language_info": {
   "name": ""
  }
 },
 "nbformat": 4,
 "nbformat_minor": 5
}
