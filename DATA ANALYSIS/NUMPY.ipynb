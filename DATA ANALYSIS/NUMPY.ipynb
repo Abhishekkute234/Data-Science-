{
 "cells": [
  {
   "cell_type": "markdown",
   "id": "f94a8859-ac47-4b6f-96ea-3e1ed4e36766",
   "metadata": {},
   "source": [
    "# NUMPY"
   ]
  },
  {
   "cell_type": "markdown",
   "id": "83edef19-7a47-422f-93a7-0bb6d7c34064",
   "metadata": {},
   "source": [
    "## Importing numpy"
   ]
  },
  {
   "cell_type": "code",
   "execution_count": 2,
   "id": "be747e10-2ec0-4006-b43c-6a6e1a01ce57",
   "metadata": {},
   "outputs": [],
   "source": [
    "import numpy as np"
   ]
  },
  {
   "cell_type": "code",
   "execution_count": 3,
   "id": "8e2f96bc-b4cb-482d-968e-833e8d041f05",
   "metadata": {},
   "outputs": [
    {
     "name": "stdout",
     "output_type": "stream",
     "text": [
      "1D Array: [1 2 3 4 5]\n",
      "2D Array:\n",
      " [[1 2 3]\n",
      " [4 5 6]]\n",
      "Zeros Array:\n",
      " [[0. 0. 0.]\n",
      " [0. 0. 0.]\n",
      " [0. 0. 0.]]\n",
      "Ones Array:\n",
      " [[1. 1. 1. 1.]\n",
      " [1. 1. 1. 1.]]\n",
      "Identity Matrix:\n",
      " [[1. 0. 0.]\n",
      " [0. 1. 0.]\n",
      " [0. 0. 1.]]\n",
      "Range Array: [0 2 4 6 8]\n",
      "Linspace Array: [0.   0.25 0.5  0.75 1.  ]\n"
     ]
    }
   ],
   "source": [
    "# Creating a 1D array\n",
    "arr1d = np.array([1, 2, 3, 4, 5])\n",
    "print(\"1D Array:\", arr1d)\n",
    "\n",
    "# Creating a 2D array\n",
    "arr2d = np.array([[1, 2, 3], [4, 5, 6]])\n",
    "print(\"2D Array:\\n\", arr2d)\n",
    "\n",
    "# Creating an array with zeros\n",
    "zeros_arr = np.zeros((3, 3))\n",
    "print(\"Zeros Array:\\n\", zeros_arr)\n",
    "\n",
    "# Creating an array with ones\n",
    "ones_arr = np.ones((2, 4))\n",
    "print(\"Ones Array:\\n\", ones_arr)\n",
    "\n",
    "# Creating an identity matrix\n",
    "identity_matrix = np.eye(3)\n",
    "print(\"Identity Matrix:\\n\", identity_matrix)\n",
    "\n",
    "# Creating an array with a range of values\n",
    "range_arr = np.arange(0, 10, 2)\n",
    "print(\"Range Array:\", range_arr)\n",
    "\n",
    "# Creating an array with evenly spaced values\n",
    "linspace_arr = np.linspace(0, 1, 5)\n",
    "print(\"Linspace Array:\", linspace_arr)"
   ]
  },
  {
   "cell_type": "code",
   "execution_count": 5,
   "id": "fae168c0-ad4b-4318-b13a-89e17269e99b",
   "metadata": {},
   "outputs": [
    {
     "name": "stdout",
     "output_type": "stream",
     "text": [
      "Shape of arr2d: (2, 3)\n",
      "Number of dimensions of arr2d: 2\n",
      "Data type of arr2d: int64\n",
      "Size of arr2d: 6\n"
     ]
    }
   ],
   "source": [
    "# Shape of the array\n",
    "print(\"Shape of arr2d:\", arr2d.shape)\n",
    "\n",
    "# Number of dimensions\n",
    "print(\"Number of dimensions of arr2d:\", arr2d.ndim)\n",
    "\n",
    "# Data type of the array\n",
    "print(\"Data type of arr2d:\", arr2d.dtype)\n",
    "\n",
    "# Size of the array (total number of elements)\n",
    "print(\"Size of arr2d:\", arr2d.size)"
   ]
  },
  {
   "cell_type": "code",
   "execution_count": 7,
   "id": "5bcbce4f-6944-4813-b0bb-6ca3f8930640",
   "metadata": {},
   "outputs": [
    {
     "name": "stdout",
     "output_type": "stream",
     "text": [
      "First element of arr1d: 1\n",
      "Last element of arr1d: 5\n",
      "Element at (0, 1) in arr2d: 2\n",
      "First three elements of arr1d: [1 2 3]\n",
      "First row of arr2d: [1 2 3]\n",
      "First column of arr2d: [1 4]\n"
     ]
    }
   ],
   "source": [
    "# Accessing elements in a 1D array\n",
    "print(\"First element of arr1d:\", arr1d[0])\n",
    "print(\"Last element of arr1d:\", arr1d[-1])\n",
    "\n",
    "# Accessing elements in a 2D array\n",
    "print(\"Element at (0, 1) in arr2d:\", arr2d[0, 1])\n",
    "\n",
    "# Slicing a 1D array\n",
    "print(\"First three elements of arr1d:\", arr1d[:3])\n",
    "\n",
    "# Slicing a 2D array\n",
    "print(\"First row of arr2d:\", arr2d[0, :])\n",
    "print(\"First column of arr2d:\", arr2d[:, 0])"
   ]
  },
  {
   "cell_type": "code",
   "execution_count": 10,
   "id": "03b0ab94-dc4b-4ae6-acf0-382930758363",
   "metadata": {},
   "outputs": [
    {
     "name": "stdout",
     "output_type": "stream",
     "text": [
      "Element-wise addition: [5 7 9]\n",
      "Element-wise multiplication: [ 4 10 18]\n",
      "Matrix multiplication:\n",
      " [[19 22]\n",
      " [43 50]]\n",
      "Sum of all elements in arr1: 6\n",
      "Mean of all elements in arr1: 2.0\n",
      "Standard deviation of arr1: 0.816496580927726\n"
     ]
    }
   ],
   "source": [
    "# Element-wise addition\n",
    "arr1 = np.array([1, 2, 3])\n",
    "arr2 = np.array([4, 5, 6])\n",
    "print(\"Element-wise addition:\", arr1 + arr2)\n",
    "\n",
    "# Element-wise multiplication\n",
    "print(\"Element-wise multiplication:\", arr1 * arr2)\n",
    "\n",
    "# Matrix multiplication\n",
    "matrix1 = np.array([[1, 2], [3, 4]])\n",
    "matrix2 = np.array([[5, 6], [7, 8]])\n",
    "print(\"Matrix multiplication:\\n\", np.dot(matrix1, matrix2))\n",
    "\n",
    "# Sum of all elements\n",
    "print(\"Sum of all elements in arr1:\", np.sum(arr1))\n",
    "\n",
    "# Mean of all elements\n",
    "print(\"Mean of all elements in arr1:\", np.mean(arr1))\n",
    "\n",
    "# Standard deviation\n",
    "print(\"Standard deviation of arr1:\", np.std(arr1))"
   ]
  },
  {
   "cell_type": "code",
   "execution_count": 12,
   "id": "b35cbd43-ac4b-4080-b388-5211508f2bbe",
   "metadata": {},
   "outputs": [
    {
     "name": "stdout",
     "output_type": "stream",
     "text": [
      "Reshaped Array:\n",
      " [[1 2 3]\n",
      " [4 5 6]\n",
      " [7 8 9]]\n",
      "Transposed Array:\n",
      " [[1 4 7]\n",
      " [2 5 8]\n",
      " [3 6 9]]\n"
     ]
    }
   ],
   "source": [
    "# Reshaping an array\n",
    "reshaped_arr = np.arange(1, 10).reshape(3, 3)\n",
    "print(\"Reshaped Array:\\n\", reshaped_arr)\n",
    "\n",
    "# Transposing an array\n",
    "transposed_arr = reshaped_arr.T\n",
    "print(\"Transposed Array:\\n\", transposed_arr)"
   ]
  },
  {
   "cell_type": "code",
   "execution_count": 13,
   "id": "f7d35a91-915f-4d75-a76a-815640656b75",
   "metadata": {},
   "outputs": [
    {
     "name": "stdout",
     "output_type": "stream",
     "text": [
      "Concatenated Array: [1 2 3 7 8 9]\n",
      "Split Array: [array([1, 2]), array([3, 7, 8]), array([9])]\n"
     ]
    }
   ],
   "source": [
    "# Concatenating arrays\n",
    "arr3 = np.array([7, 8, 9])\n",
    "concatenated_arr = np.concatenate((arr1, arr3))\n",
    "print(\"Concatenated Array:\", concatenated_arr)\n",
    "\n",
    "# Splitting arrays\n",
    "split_arr = np.split(concatenated_arr, [2, 5])\n",
    "print(\"Split Array:\", split_arr)"
   ]
  },
  {
   "cell_type": "code",
   "execution_count": 14,
   "id": "e477782d-228c-4524-830e-e6fd82a9057c",
   "metadata": {},
   "outputs": [
    {
     "name": "stdout",
     "output_type": "stream",
     "text": [
      "Filtered Array: [1 3 5]\n",
      "Elements greater than 2: [3 4 5]\n"
     ]
    }
   ],
   "source": [
    "# Boolean indexing\n",
    "bool_arr = np.array([True, False, True, False, True])\n",
    "filtered_arr = arr1d[bool_arr]\n",
    "print(\"Filtered Array:\", filtered_arr)\n",
    "\n",
    "# Conditional filtering\n",
    "condition = arr1d > 2\n",
    "print(\"Elements greater than 2:\", arr1d[condition])"
   ]
  },
  {
   "cell_type": "code",
   "execution_count": 15,
   "id": "09b534fb-27de-4cbb-a322-6a81b19fb6f5",
   "metadata": {},
   "outputs": [
    {
     "name": "stdout",
     "output_type": "stream",
     "text": [
      "Random Array:\n",
      " [[0.70990679 0.22871695 0.40820572]\n",
      " [0.77816426 0.01618398 0.85824415]\n",
      " [0.11696844 0.85339968 0.90744542]]\n",
      "Random Integer Array:\n",
      " [[5 4]\n",
      " [8 1]]\n",
      "Shuffled Array: [4 1 3 5 2]\n"
     ]
    }
   ],
   "source": [
    "# Generating random numbers\n",
    "random_arr = np.random.rand(3, 3)\n",
    "print(\"Random Array:\\n\", random_arr)\n",
    "\n",
    "# Generating random integers\n",
    "random_int_arr = np.random.randint(0, 10, (2, 2))\n",
    "print(\"Random Integer Array:\\n\", random_int_arr)\n",
    "\n",
    "# Shuffling an array\n",
    "np.random.shuffle(arr1d)\n",
    "print(\"Shuffled Array:\", arr1d)"
   ]
  },
  {
   "cell_type": "code",
   "execution_count": 16,
   "id": "3ad4fbef-064f-47b7-ad0e-badb8e8a55ec",
   "metadata": {},
   "outputs": [
    {
     "name": "stdout",
     "output_type": "stream",
     "text": [
      "Loaded Array: [4 1 3 5 2]\n"
     ]
    }
   ],
   "source": [
    "# Saving an array to a file\n",
    "np.save('my_array.npy', arr1d)\n",
    "\n",
    "# Loading an array from a file\n",
    "loaded_arr = np.load('my_array.npy')\n",
    "print(\"Loaded Array:\", loaded_arr)"
   ]
  },
  {
   "cell_type": "code",
   "execution_count": 17,
   "id": "ae2420c8-da9c-4691-834d-bc55f2331430",
   "metadata": {},
   "outputs": [
    {
     "name": "stdout",
     "output_type": "stream",
     "text": [
      "Broadcasted Array: [ 9  6  8 10  7]\n",
      "Vectorized Array: [ 8  2  6 10  4]\n",
      "Unique Elements: [1 2 3]\n"
     ]
    }
   ],
   "source": [
    "# Broadcasting\n",
    "broadcasted_arr = arr1d + 5\n",
    "print(\"Broadcasted Array:\", broadcasted_arr)\n",
    "\n",
    "# Vectorized operations\n",
    "vectorized_arr = np.vectorize(lambda x: x * 2)(arr1d)\n",
    "print(\"Vectorized Array:\", vectorized_arr)\n",
    "\n",
    "# Unique elements\n",
    "unique_arr = np.unique([1, 2, 2, 3, 3, 3])\n",
    "print(\"Unique Elements:\", unique_arr)"
   ]
  },
  {
   "cell_type": "code",
   "execution_count": 18,
   "id": "e24ee06d-24d9-4283-bf26-4d1cdd14a750",
   "metadata": {},
   "outputs": [
    {
     "name": "stdout",
     "output_type": "stream",
     "text": [
      "Determinant of matrix1: -2.0000000000000004\n",
      "Eigenvalues: [-0.37228132  5.37228132]\n",
      "Eigenvectors:\n",
      " [[-0.82456484 -0.41597356]\n",
      " [ 0.56576746 -0.90937671]]\n",
      "Inverse of matrix1:\n",
      " [[-2.   1. ]\n",
      " [ 1.5 -0.5]]\n"
     ]
    }
   ],
   "source": [
    "# Determinant of a matrix\n",
    "det = np.linalg.det(matrix1)\n",
    "print(\"Determinant of matrix1:\", det)\n",
    "\n",
    "# Eigenvalues and eigenvectors\n",
    "eigenvalues, eigenvectors = np.linalg.eig(matrix1)\n",
    "print(\"Eigenvalues:\", eigenvalues)\n",
    "print(\"Eigenvectors:\\n\", eigenvectors)\n",
    "\n",
    "# Inverse of a matrix\n",
    "inverse_matrix = np.linalg.inv(matrix1)\n",
    "print(\"Inverse of matrix1:\\n\", inverse_matrix)"
   ]
  },
  {
   "cell_type": "code",
   "execution_count": 19,
   "id": "7e33b2b1-e942-44b0-83fe-5d457847de10",
   "metadata": {},
   "outputs": [
    {
     "name": "stdout",
     "output_type": "stream",
     "text": [
      "Determinant of matrix1: -2.0000000000000004\n",
      "Eigenvalues: [-0.37228132  5.37228132]\n",
      "Eigenvectors:\n",
      " [[-0.82456484 -0.41597356]\n",
      " [ 0.56576746 -0.90937671]]\n",
      "Inverse of matrix1:\n",
      " [[-2.   1. ]\n",
      " [ 1.5 -0.5]]\n"
     ]
    }
   ],
   "source": [
    "# Determinant of a matrix\n",
    "det = np.linalg.det(matrix1)\n",
    "print(\"Determinant of matrix1:\", det)\n",
    "\n",
    "# Eigenvalues and eigenvectors\n",
    "eigenvalues, eigenvectors = np.linalg.eig(matrix1)\n",
    "print(\"Eigenvalues:\", eigenvalues)\n",
    "print(\"Eigenvectors:\\n\", eigenvectors)\n",
    "\n",
    "# Inverse of a matrix\n",
    "inverse_matrix = np.linalg.inv(matrix1)\n",
    "print(\"Inverse of matrix1:\\n\", inverse_matrix)"
   ]
  },
  {
   "cell_type": "code",
   "execution_count": 20,
   "id": "94dc0573-9420-4399-8b17-92717b3aaed9",
   "metadata": {},
   "outputs": [
    {
     "name": "stdout",
     "output_type": "stream",
     "text": [
      "Minimum value in arr1d: 1\n",
      "Maximum value in arr1d: 5\n",
      "Cumulative sum of arr1d: [ 4  5  8 13 15]\n",
      "50th percentile of arr1d: 3.0\n"
     ]
    }
   ],
   "source": [
    "# Minimum and maximum\n",
    "print(\"Minimum value in arr1d:\", np.min(arr1d))\n",
    "print(\"Maximum value in arr1d:\", np.max(arr1d))\n",
    "\n",
    "# Cumulative sum\n",
    "print(\"Cumulative sum of arr1d:\", np.cumsum(arr1d))\n",
    "\n",
    "# Percentile\n",
    "print(\"50th percentile of arr1d:\", np.percentile(arr1d, 50))"
   ]
  },
  {
   "cell_type": "code",
   "execution_count": 21,
   "id": "4b9331ef-1726-4d0d-a686-80578d267e6f",
   "metadata": {},
   "outputs": [
    {
     "name": "stdout",
     "output_type": "stream",
     "text": [
      "Array with NaN: [ 1.  2. nan  4.]\n",
      "Is NaN: [False False  True False]\n",
      "Array after replacing NaN: [1. 2. 0. 4.]\n"
     ]
    }
   ],
   "source": [
    "# Creating an array with NaN\n",
    "nan_arr = np.array([1, 2, np.nan, 4])\n",
    "print(\"Array with NaN:\", nan_arr)\n",
    "\n",
    "# Checking for NaN\n",
    "print(\"Is NaN:\", np.isnan(nan_arr))\n",
    "\n",
    "# Replacing NaN with a value\n",
    "nan_arr[np.isnan(nan_arr)] = 0\n",
    "print(\"Array after replacing NaN:\", nan_arr)"
   ]
  },
  {
   "cell_type": "code",
   "execution_count": 22,
   "id": "4b8bbb21-1de1-4ee6-b6b1-92f08ffc04e2",
   "metadata": {},
   "outputs": [
    {
     "name": "stdout",
     "output_type": "stream",
     "text": [
      "4\n",
      "1\n",
      "3\n",
      "5\n",
      "2\n",
      "1\n",
      "2\n",
      "3\n",
      "4\n",
      "5\n",
      "6\n"
     ]
    }
   ],
   "source": [
    "# Iterating over a 1D array\n",
    "for element in arr1d:\n",
    "    print(element)\n",
    "\n",
    "# Iterating over a 2D array\n",
    "for row in arr2d:\n",
    "    for element in row:\n",
    "        print(element)"
   ]
  },
  {
   "cell_type": "code",
   "execution_count": 23,
   "id": "188e7f31-60ab-4e48-8f0c-d362614eb0c0",
   "metadata": {},
   "outputs": [
    {
     "name": "stdout",
     "output_type": "stream",
     "text": [
      "Sorted Array: [1 2 3 4 5]\n",
      "Sorted 2D Array along axis 0:\n",
      " [[1 2 3]\n",
      " [4 5 6]]\n"
     ]
    }
   ],
   "source": [
    "# Sorting a 1D array\n",
    "sorted_arr = np.sort(arr1d)\n",
    "print(\"Sorted Array:\", sorted_arr)\n",
    "\n",
    "# Sorting a 2D array along a specific axis\n",
    "sorted_arr2d = np.sort(arr2d, axis=0)\n",
    "print(\"Sorted 2D Array along axis 0:\\n\", sorted_arr2d)"
   ]
  },
  {
   "cell_type": "code",
   "execution_count": 24,
   "id": "0a63277c-d1c2-43c4-885c-1ff1c52b6647",
   "metadata": {},
   "outputs": [
    {
     "name": "stdout",
     "output_type": "stream",
     "text": [
      "Histogram: [2 1 2]\n",
      "Bin Edges: [1.         2.33333333 3.66666667 5.        ]\n"
     ]
    }
   ],
   "source": [
    "# Creating a histogram\n",
    "hist, bin_edges = np.histogram(arr1d, bins=3)\n",
    "print(\"Histogram:\", hist)\n",
    "print(\"Bin Edges:\", bin_edges)"
   ]
  },
  {
   "cell_type": "code",
   "execution_count": 25,
   "id": "893a3c61-7d5f-440f-87d8-bbf00d92ab3c",
   "metadata": {},
   "outputs": [
    {
     "name": "stdout",
     "output_type": "stream",
     "text": [
      "Sum using numpy: 15\n"
     ]
    }
   ],
   "source": [
    "# Using numpy's built-in functions for better performance\n",
    "# Instead of using Python loops, use numpy's vectorized operations\n",
    "# Example: Summing elements\n",
    "print(\"Sum using numpy:\", np.sum(arr1d))"
   ]
  },
  {
   "cell_type": "code",
   "execution_count": null,
   "id": "6798e33e-956f-4f17-824f-f61f3c554ede",
   "metadata": {},
   "outputs": [],
   "source": []
  }
 ],
 "metadata": {
  "kernelspec": {
   "display_name": "Python 3 (ipykernel)",
   "language": "python",
   "name": "python3"
  },
  "language_info": {
   "codemirror_mode": {
    "name": "ipython",
    "version": 3
   },
   "file_extension": ".py",
   "mimetype": "text/x-python",
   "name": "python",
   "nbconvert_exporter": "python",
   "pygments_lexer": "ipython3",
   "version": "3.10.12"
  }
 },
 "nbformat": 4,
 "nbformat_minor": 5
}
