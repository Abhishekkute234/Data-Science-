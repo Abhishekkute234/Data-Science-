{
 "cells": [
  {
   "cell_type": "markdown",
   "id": "5822d1e3-9a22-4f5b-a2f3-7b896c51ffce",
   "metadata": {},
   "source": [
    "# PANDAS"
   ]
  },
  {
   "cell_type": "code",
   "execution_count": 1,
   "id": "1ad7cc09-74d9-4ce3-814d-42cbd93aa430",
   "metadata": {},
   "outputs": [],
   "source": [
    "import pandas as pd\n",
    "import numpy as np  # Often used together with pandas"
   ]
  },
  {
   "cell_type": "code",
   "execution_count": 2,
   "id": "557c6930-8994-44a0-9958-2785f4f45e37",
   "metadata": {},
   "outputs": [
    {
     "name": "stdout",
     "output_type": "stream",
     "text": [
      "Series:\n",
      "0    1.0\n",
      "1    3.0\n",
      "2    5.0\n",
      "3    NaN\n",
      "4    6.0\n",
      "5    8.0\n",
      "dtype: float64\n",
      "\n",
      "DataFrame:\n",
      "      Name  Age      City\n",
      "0    Alice   25  New York\n",
      "1      Bob   30    London\n",
      "2  Charlie   35     Paris\n"
     ]
    }
   ],
   "source": [
    "# Create a Series\n",
    "s = pd.Series([1, 3, 5, np.nan, 6, 8])\n",
    "print(\"Series:\")\n",
    "print(s)\n",
    "\n",
    "# Create DataFrame from dictionary\n",
    "data = {\n",
    "    'Name': ['Alice', 'Bob', 'Charlie'],\n",
    "    'Age': [25, 30, 35],\n",
    "    'City': ['New York', 'London', 'Paris']\n",
    "}\n",
    "df = pd.DataFrame(data)\n",
    "print(\"\\nDataFrame:\")\n",
    "print(df)"
   ]
  },
  {
   "cell_type": "code",
   "execution_count": 3,
   "id": "f674c620-3d3b-4eec-b8c1-1f12df1730b4",
   "metadata": {},
   "outputs": [
    {
     "name": "stdout",
     "output_type": "stream",
     "text": [
      "\n",
      "CSV DataFrame:\n",
      "     PassengerId  Survived  Pclass  \\\n",
      "0              1         0       3   \n",
      "1              2         1       1   \n",
      "2              3         1       3   \n",
      "3              4         1       1   \n",
      "4              5         0       3   \n",
      "..           ...       ...     ...   \n",
      "886          887         0       2   \n",
      "887          888         1       1   \n",
      "888          889         0       3   \n",
      "889          890         1       1   \n",
      "890          891         0       3   \n",
      "\n",
      "                                                  Name     Sex   Age  SibSp  \\\n",
      "0                              Braund, Mr. Owen Harris    male  22.0      1   \n",
      "1    Cumings, Mrs. John Bradley (Florence Briggs Th...  female  38.0      1   \n",
      "2                               Heikkinen, Miss. Laina  female  26.0      0   \n",
      "3         Futrelle, Mrs. Jacques Heath (Lily May Peel)  female  35.0      1   \n",
      "4                             Allen, Mr. William Henry    male  35.0      0   \n",
      "..                                                 ...     ...   ...    ...   \n",
      "886                              Montvila, Rev. Juozas    male  27.0      0   \n",
      "887                       Graham, Miss. Margaret Edith  female  19.0      0   \n",
      "888           Johnston, Miss. Catherine Helen \"Carrie\"  female   NaN      1   \n",
      "889                              Behr, Mr. Karl Howell    male  26.0      0   \n",
      "890                                Dooley, Mr. Patrick    male  32.0      0   \n",
      "\n",
      "     Parch            Ticket     Fare Cabin Embarked  \n",
      "0        0         A/5 21171   7.2500   NaN        S  \n",
      "1        0          PC 17599  71.2833   C85        C  \n",
      "2        0  STON/O2. 3101282   7.9250   NaN        S  \n",
      "3        0            113803  53.1000  C123        S  \n",
      "4        0            373450   8.0500   NaN        S  \n",
      "..     ...               ...      ...   ...      ...  \n",
      "886      0            211536  13.0000   NaN        S  \n",
      "887      0            112053  30.0000   B42        S  \n",
      "888      2        W./C. 6607  23.4500   NaN        S  \n",
      "889      0            111369  30.0000  C148        C  \n",
      "890      0            370376   7.7500   NaN        Q  \n",
      "\n",
      "[891 rows x 12 columns]\n"
     ]
    }
   ],
   "source": [
    "# Create sample data\n",
    "df.to_csv('sample_data.csv', index=False)\n",
    "\n",
    "# Read from CSV\n",
    "csv_df = pd.read_csv('train.csv')\n",
    "print(\"\\nCSV DataFrame:\")\n",
    "print(csv_df)\n",
    "\n",
    "# Read from Excel (requires openpyxl)\n",
    "# df.to_excel('sample_data.xlsx', index=False)\n",
    "# excel_df = pd.read_excel('sample_data.xlsx')"
   ]
  },
  {
   "cell_type": "code",
   "execution_count": 4,
   "id": "e08105eb-2152-4ac6-bf37-385bfaa513d2",
   "metadata": {},
   "outputs": [
    {
     "name": "stdout",
     "output_type": "stream",
     "text": [
      "\n",
      "First 2 rows:\n",
      "    Name  Age      City\n",
      "0  Alice   25  New York\n",
      "1    Bob   30    London\n",
      "\n",
      "DataFrame info:\n",
      "<class 'pandas.core.frame.DataFrame'>\n",
      "RangeIndex: 3 entries, 0 to 2\n",
      "Data columns (total 3 columns):\n",
      " #   Column  Non-Null Count  Dtype \n",
      "---  ------  --------------  ----- \n",
      " 0   Name    3 non-null      object\n",
      " 1   Age     3 non-null      int64 \n",
      " 2   City    3 non-null      object\n",
      "dtypes: int64(1), object(2)\n",
      "memory usage: 200.0+ bytes\n",
      "None\n",
      "\n",
      "Descriptive stats:\n",
      "        Age\n",
      "count   3.0\n",
      "mean   30.0\n",
      "std     5.0\n",
      "min    25.0\n",
      "25%    27.5\n",
      "50%    30.0\n",
      "75%    32.5\n",
      "max    35.0\n",
      "\n",
      "Columns: Index(['Name', 'Age', 'City'], dtype='object')\n",
      "Shape: (3, 3)\n"
     ]
    }
   ],
   "source": [
    "# View first rows\n",
    "print(\"\\nFirst 2 rows:\")\n",
    "print(df.head(2))\n",
    "\n",
    "# Basic information\n",
    "print(\"\\nDataFrame info:\")\n",
    "print(df.info())\n",
    "\n",
    "# Descriptive statistics\n",
    "print(\"\\nDescriptive stats:\")\n",
    "print(df.describe())\n",
    "\n",
    "# Columns and shape\n",
    "print(\"\\nColumns:\", df.columns)\n",
    "print(\"Shape:\", df.shape)"
   ]
  },
  {
   "cell_type": "code",
   "execution_count": 5,
   "id": "ac66da6b-dc1e-4dcb-998e-86871d3ac9ce",
   "metadata": {},
   "outputs": [
    {
     "name": "stdout",
     "output_type": "stream",
     "text": [
      "\n",
      "Age column:\n",
      "0    25\n",
      "1    30\n",
      "2    35\n",
      "Name: Age, dtype: int64\n",
      "\n",
      "Name and City:\n",
      "      Name      City\n",
      "0    Alice  New York\n",
      "1      Bob    London\n",
      "2  Charlie     Paris\n",
      "\n",
      "Row 1:\n",
      "Name       Bob\n",
      "Age         30\n",
      "City    London\n",
      "Name: 1, dtype: object\n",
      "\n",
      "People over 28:\n",
      "      Name  Age    City\n",
      "1      Bob   30  London\n",
      "2  Charlie   35   Paris\n"
     ]
    }
   ],
   "source": [
    "# Column selection\n",
    "print(\"\\nAge column:\")\n",
    "print(df['Age'])\n",
    "\n",
    "# Multiple columns\n",
    "print(\"\\nName and City:\")\n",
    "print(df[['Name', 'City']])\n",
    "\n",
    "# Row selection by index\n",
    "print(\"\\nRow 1:\")\n",
    "print(df.iloc[1])\n",
    "\n",
    "# Boolean indexing\n",
    "print(\"\\nPeople over 28:\")\n",
    "print(df[df['Age'] > 28])"
   ]
  },
  {
   "cell_type": "code",
   "execution_count": 6,
   "id": "ab8f69f2-5ce2-46ba-9c30-175ee3fb3318",
   "metadata": {},
   "outputs": [
    {
     "name": "stdout",
     "output_type": "stream",
     "text": [
      "\n",
      "Data with missing values:\n",
      "      Name   Age      City\n",
      "0    Alice  25.0  New York\n",
      "1      Bob   NaN    London\n",
      "2  Charlie  35.0     Paris\n",
      "\n",
      "Fill missing values:\n",
      "      Name   Age      City\n",
      "0    Alice  25.0  New York\n",
      "1      Bob  30.0    London\n",
      "2  Charlie  35.0     Paris\n",
      "\n",
      "Dropped duplicates:\n",
      "      Name  Age      City\n",
      "0    Alice   25  New York\n",
      "1      Bob   30    London\n",
      "2  Charlie   35     Paris\n"
     ]
    }
   ],
   "source": [
    "# Handle missing data\n",
    "df_nan = df.copy()\n",
    "df_nan.loc[1, 'Age'] = np.nan\n",
    "print(\"\\nData with missing values:\")\n",
    "print(df_nan)\n",
    "\n",
    "print(\"\\nFill missing values:\")\n",
    "print(df_nan.fillna({'Age': df_nan['Age'].mean()}))\n",
    "\n",
    "# Drop duplicates\n",
    "df_dup = pd.concat([df, df]).reset_index(drop=True)\n",
    "print(\"\\nDropped duplicates:\")\n",
    "print(df_dup.drop_duplicates())"
   ]
  },
  {
   "cell_type": "code",
   "execution_count": 7,
   "id": "dbc54302-a0cf-40fd-8876-2119f8e7f91c",
   "metadata": {},
   "outputs": [
    {
     "name": "stdout",
     "output_type": "stream",
     "text": [
      "\n",
      "DataFrame with Senior column:\n",
      "      Name  Age      City  Senior\n",
      "0    Alice   25  New York   False\n",
      "1      Bob   30    London   False\n",
      "2  Charlie   35     Paris    True\n",
      "\n",
      "Renamed columns:\n",
      "      Name  Age  Location  Senior\n",
      "0    Alice   25  New York   False\n",
      "1      Bob   30    London   False\n",
      "2  Charlie   35     Paris    True\n",
      "\n",
      "Sorted by Age:\n",
      "      Name  Age      City  Senior\n",
      "2  Charlie   35     Paris    True\n",
      "1      Bob   30    London   False\n",
      "0    Alice   25  New York   False\n"
     ]
    }
   ],
   "source": [
    "# Add new column\n",
    "df['Senior'] = df['Age'] > 30\n",
    "print(\"\\nDataFrame with Senior column:\")\n",
    "print(df)\n",
    "\n",
    "# Rename columns\n",
    "df_renamed = df.rename(columns={'City': 'Location'})\n",
    "print(\"\\nRenamed columns:\")\n",
    "print(df_renamed)\n",
    "\n",
    "# Sort values\n",
    "print(\"\\nSorted by Age:\")\n",
    "print(df.sort_values('Age', ascending=False))"
   ]
  },
  {
   "cell_type": "code",
   "execution_count": 8,
   "id": "79db2b28-370d-41a5-9a0f-f2630d499259",
   "metadata": {},
   "outputs": [
    {
     "name": "stdout",
     "output_type": "stream",
     "text": [
      "\n",
      "Average age by city:\n",
      "City\n",
      "London      30.0\n",
      "New York    25.0\n",
      "Paris       35.0\n",
      "Name: Age, dtype: float64\n",
      "\n",
      "Pivot table:\n",
      "           Age\n",
      "City          \n",
      "London    30.0\n",
      "New York  25.0\n",
      "Paris     35.0\n"
     ]
    },
    {
     "name": "stderr",
     "output_type": "stream",
     "text": [
      "/tmp/ipykernel_13062/1650896221.py:7: FutureWarning: The provided callable <function mean at 0x7c935c75c1f0> is currently using DataFrameGroupBy.mean. In a future version of pandas, the provided callable will be used directly. To keep current behavior pass the string \"mean\" instead.\n",
      "  print(pd.pivot_table(df, values='Age', index='City', aggfunc=np.mean))\n"
     ]
    }
   ],
   "source": [
    "# Group by city\n",
    "print(\"\\nAverage age by city:\")\n",
    "print(df.groupby('City')['Age'].mean())\n",
    "\n",
    "# Pivot tables\n",
    "print(\"\\nPivot table:\")\n",
    "print(pd.pivot_table(df, values='Age', index='City', aggfunc=np.mean))"
   ]
  },
  {
   "cell_type": "code",
   "execution_count": 9,
   "id": "345e700f-8f46-4463-b9f1-a3b2fea0ad49",
   "metadata": {},
   "outputs": [
    {
     "name": "stdout",
     "output_type": "stream",
     "text": [
      "\n",
      "Apply function:\n",
      "      Name  Age      City  Senior  Age_squared\n",
      "0    Alice   25  New York   False          625\n",
      "1      Bob   30    London   False          900\n",
      "2  Charlie   35     Paris    True         1225\n",
      "\n",
      "Vectorized operation:\n",
      "      Name  Age      City  Senior  Age_squared  Age_plus_5\n",
      "0    Alice   25  New York   False          625          30\n",
      "1      Bob   30    London   False          900          35\n",
      "2  Charlie   35     Paris    True         1225          40\n"
     ]
    }
   ],
   "source": [
    "# Apply function to column\n",
    "df['Age_squared'] = df['Age'].apply(lambda x: x**2)\n",
    "print(\"\\nApply function:\")\n",
    "print(df)\n",
    "\n",
    "# Vectorized operations\n",
    "df['Age_plus_5'] = df['Age'] + 5\n",
    "print(\"\\nVectorized operation:\")\n",
    "print(df)"
   ]
  },
  {
   "cell_type": "code",
   "execution_count": 10,
   "id": "a9f9068f-7241-45b9-861d-d992e13ca85f",
   "metadata": {},
   "outputs": [
    {
     "name": "stdout",
     "output_type": "stream",
     "text": [
      "\n",
      "Multi-index DataFrame:\n",
      "                 Values\n",
      "Letters Numbers        \n",
      "A       1            10\n",
      "        2            20\n",
      "B       1            30\n",
      "        2            40\n",
      "\n",
      "Unstacked DataFrame:\n",
      "        Values    \n",
      "Numbers      1   2\n",
      "Letters           \n",
      "A           10  20\n",
      "B           30  40\n"
     ]
    }
   ],
   "source": [
    "# Multi-index\n",
    "arrays = [['A', 'A', 'B', 'B'], [1, 2, 1, 2]]\n",
    "multi_index = pd.MultiIndex.from_arrays(arrays, names=('Letters', 'Numbers'))\n",
    "multi_df = pd.DataFrame({'Values': [10, 20, 30, 40]}, index=multi_index)\n",
    "print(\"\\nMulti-index DataFrame:\")\n",
    "print(multi_df)\n",
    "\n",
    "# Stack/Unstack\n",
    "print(\"\\nUnstacked DataFrame:\")\n",
    "print(multi_df.unstack())"
   ]
  },
  {
   "cell_type": "code",
   "execution_count": 12,
   "id": "66483ac4-c473-42b1-9ce6-9b17dcebb985",
   "metadata": {},
   "outputs": [
    {
     "name": "stdout",
     "output_type": "stream",
     "text": [
      "Processing chunk of shape (891, 12)\n"
     ]
    }
   ],
   "source": [
    "# Chunk processing\n",
    "chunk_size = 1000\n",
    "chunk_reader = pd.read_csv('train.csv', chunksize=chunk_size)\n",
    "\n",
    "for chunk in chunk_reader:\n",
    "    # Process each chunk here\n",
    "    print(f\"Processing chunk of shape {chunk.shape}\")\n",
    "    break  # Remove break to process all chunks"
   ]
  },
  {
   "cell_type": "code",
   "execution_count": 13,
   "id": "20271071-27bc-4279-a8c4-4200551529e3",
   "metadata": {},
   "outputs": [
    {
     "name": "stdout",
     "output_type": "stream",
     "text": [
      "\n",
      "Categorical data:\n",
      "Name             object\n",
      "Age               int64\n",
      "City           category\n",
      "Senior             bool\n",
      "Age_squared       int64\n",
      "Age_plus_5        int64\n",
      "dtype: object\n"
     ]
    }
   ],
   "source": [
    "# Convert to categorical\n",
    "df['City'] = df['City'].astype('category')\n",
    "print(\"\\nCategorical data:\")\n",
    "print(df.dtypes)"
   ]
  },
  {
   "cell_type": "code",
   "execution_count": 14,
   "id": "c0aa570a-dc64-4b47-a11c-995505b562cd",
   "metadata": {},
   "outputs": [
    {
     "name": "stdout",
     "output_type": "stream",
     "text": [
      "\n",
      "Practice these operations:\n",
      "1. Filtering and querying data\n",
      "2. Handling missing values\n",
      "3. Merging/joining datasets\n",
      "4. GroupBy operations\n",
      "5. Time series manipulation\n",
      "6. Data visualization\n",
      "\n"
     ]
    }
   ],
   "source": [
    "# Final Tips\n",
    "print(\"\"\"\n",
    "Practice these operations:\n",
    "1. Filtering and querying data\n",
    "2. Handling missing values\n",
    "3. Merging/joining datasets\n",
    "4. GroupBy operations\n",
    "5. Time series manipulation\n",
    "6. Data visualization\n",
    "\"\"\")"
   ]
  },
  {
   "cell_type": "code",
   "execution_count": null,
   "id": "91750151-3ad9-45c7-b724-28182afed78a",
   "metadata": {},
   "outputs": [],
   "source": []
  }
 ],
 "metadata": {
  "kernelspec": {
   "display_name": "Python 3 (ipykernel)",
   "language": "python",
   "name": "python3"
  },
  "language_info": {
   "codemirror_mode": {
    "name": "ipython",
    "version": 3
   },
   "file_extension": ".py",
   "mimetype": "text/x-python",
   "name": "python",
   "nbconvert_exporter": "python",
   "pygments_lexer": "ipython3",
   "version": "3.10.12"
  }
 },
 "nbformat": 4,
 "nbformat_minor": 5
}
