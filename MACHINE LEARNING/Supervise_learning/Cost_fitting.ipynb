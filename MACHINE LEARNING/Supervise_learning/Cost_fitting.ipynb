{
 "cells": [
  {
   "cell_type": "markdown",
   "id": "1a61f384-51c0-4678-ae00-dcf51f12b175",
   "metadata": {},
   "source": [
    "# Cost fitting "
   ]
  },
  {
   "cell_type": "code",
   "execution_count": null,
   "id": "919d10f1-21e2-4f17-b7f9-b1618f3bdc11",
   "metadata": {},
   "outputs": [],
   "source": []
  }
 ],
 "metadata": {
  "kernelspec": {
   "display_name": "Python 3 (ipykernel)",
   "language": "python",
   "name": "python3"
  },
  "language_info": {
   "codemirror_mode": {
    "name": "ipython",
    "version": 3
   },
   "file_extension": ".py",
   "mimetype": "text/x-python",
   "name": "python",
   "nbconvert_exporter": "python",
   "pygments_lexer": "ipython3",
   "version": "3.10.12"
  }
 },
 "nbformat": 4,
 "nbformat_minor": 5
}
