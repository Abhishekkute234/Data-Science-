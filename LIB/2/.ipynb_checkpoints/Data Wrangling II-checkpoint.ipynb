{
 "cells": [
  {
   "cell_type": "markdown",
   "id": "38f537aa",
   "metadata": {},
   "source": [
    "# 2) Data Wrangling II\n",
    "\n",
    "Create an “Academic performance” dataset of students and perform the following operations using\n",
    "Python.\n",
    "- 1. Scan all variables for missing values and inconsistencies. If there are missing values and/or inconsistencies, use any of the suitable techniques to deal with them.\n",
    "- 2. Scan all numeric variables for outliers. If there are outliers, use any of the suitable techniques to deal with them.\n",
    "- 3. Apply data transformations on at least one of the variables. The purpose of this transformation should be one of the following reasons: to change the scale for better understanding of the variable, to convert a non-linear relation into a linear one, or to decrease the skewness and convert the distribution into a normal distribution."
   ]
  },
  {
   "cell_type": "code",
   "execution_count": 1,
   "id": "3f04b8e2",
   "metadata": {},
   "outputs": [
    {
     "data": {
      "text/html": [
       "<div>\n",
       "<style scoped>\n",
       "    .dataframe tbody tr th:only-of-type {\n",
       "        vertical-align: middle;\n",
       "    }\n",
       "\n",
       "    .dataframe tbody tr th {\n",
       "        vertical-align: top;\n",
       "    }\n",
       "\n",
       "    .dataframe thead th {\n",
       "        text-align: right;\n",
       "    }\n",
       "</style>\n",
       "<table border=\"1\" class=\"dataframe\">\n",
       "  <thead>\n",
       "    <tr style=\"text-align: right;\">\n",
       "      <th></th>\n",
       "      <th>gender</th>\n",
       "      <th>race/ethnicity</th>\n",
       "      <th>parental level of education</th>\n",
       "      <th>lunch</th>\n",
       "      <th>test preparation course</th>\n",
       "      <th>math score</th>\n",
       "      <th>reading score</th>\n",
       "      <th>writing score</th>\n",
       "    </tr>\n",
       "  </thead>\n",
       "  <tbody>\n",
       "    <tr>\n",
       "      <th>0</th>\n",
       "      <td>female</td>\n",
       "      <td>group B</td>\n",
       "      <td>bachelor's degree</td>\n",
       "      <td>standard</td>\n",
       "      <td>none</td>\n",
       "      <td>72</td>\n",
       "      <td>72</td>\n",
       "      <td>74</td>\n",
       "    </tr>\n",
       "    <tr>\n",
       "      <th>1</th>\n",
       "      <td>female</td>\n",
       "      <td>group C</td>\n",
       "      <td>some college</td>\n",
       "      <td>standard</td>\n",
       "      <td>completed</td>\n",
       "      <td>69</td>\n",
       "      <td>90</td>\n",
       "      <td>88</td>\n",
       "    </tr>\n",
       "    <tr>\n",
       "      <th>2</th>\n",
       "      <td>female</td>\n",
       "      <td>group B</td>\n",
       "      <td>master's degree</td>\n",
       "      <td>standard</td>\n",
       "      <td>none</td>\n",
       "      <td>90</td>\n",
       "      <td>95</td>\n",
       "      <td>93</td>\n",
       "    </tr>\n",
       "    <tr>\n",
       "      <th>3</th>\n",
       "      <td>male</td>\n",
       "      <td>group A</td>\n",
       "      <td>associate's degree</td>\n",
       "      <td>free/reduced</td>\n",
       "      <td>none</td>\n",
       "      <td>47</td>\n",
       "      <td>57</td>\n",
       "      <td>44</td>\n",
       "    </tr>\n",
       "    <tr>\n",
       "      <th>4</th>\n",
       "      <td>male</td>\n",
       "      <td>group C</td>\n",
       "      <td>some college</td>\n",
       "      <td>standard</td>\n",
       "      <td>none</td>\n",
       "      <td>76</td>\n",
       "      <td>78</td>\n",
       "      <td>75</td>\n",
       "    </tr>\n",
       "  </tbody>\n",
       "</table>\n",
       "</div>"
      ],
      "text/plain": [
       "   gender race/ethnicity parental level of education         lunch  \\\n",
       "0  female        group B           bachelor's degree      standard   \n",
       "1  female        group C                some college      standard   \n",
       "2  female        group B             master's degree      standard   \n",
       "3    male        group A          associate's degree  free/reduced   \n",
       "4    male        group C                some college      standard   \n",
       "\n",
       "  test preparation course  math score  reading score  writing score  \n",
       "0                    none          72             72             74  \n",
       "1               completed          69             90             88  \n",
       "2                    none          90             95             93  \n",
       "3                    none          47             57             44  \n",
       "4                    none          76             78             75  "
      ]
     },
     "execution_count": 1,
     "metadata": {},
     "output_type": "execute_result"
    }
   ],
   "source": [
    "import pandas as pd\n",
    "import numpy as np\n",
    "import matplotlib.pyplot as plt\n",
    "import seaborn as sns\n",
    "\n",
    "df = pd.read_csv(\"./StudentsPerformance.csv\")\n",
    "\n",
    "df.head()"
   ]
  },
  {
   "cell_type": "markdown",
   "id": "886a1162",
   "metadata": {},
   "source": [
    "### 1. Missing Values and Inconsistencies"
   ]
  },
  {
   "cell_type": "code",
   "execution_count": 2,
   "id": "0d0a9df6",
   "metadata": {},
   "outputs": [
    {
     "name": "stdout",
     "output_type": "stream",
     "text": [
      "<class 'pandas.core.frame.DataFrame'>\n",
      "RangeIndex: 1000 entries, 0 to 999\n",
      "Data columns (total 8 columns):\n",
      " #   Column                       Non-Null Count  Dtype \n",
      "---  ------                       --------------  ----- \n",
      " 0   gender                       1000 non-null   object\n",
      " 1   race/ethnicity               1000 non-null   object\n",
      " 2   parental level of education  1000 non-null   object\n",
      " 3   lunch                        1000 non-null   object\n",
      " 4   test preparation course      1000 non-null   object\n",
      " 5   math score                   1000 non-null   int64 \n",
      " 6   reading score                1000 non-null   int64 \n",
      " 7   writing score                1000 non-null   int64 \n",
      "dtypes: int64(3), object(5)\n",
      "memory usage: 62.6+ KB\n"
     ]
    }
   ],
   "source": [
    "# Check for missing values\n",
    "df.info()"
   ]
  },
  {
   "cell_type": "code",
   "execution_count": 3,
   "id": "b6ccc6af",
   "metadata": {},
   "outputs": [
    {
     "data": {
      "text/plain": [
       "array(['none', 'completed'], dtype=object)"
      ]
     },
     "execution_count": 3,
     "metadata": {},
     "output_type": "execute_result"
    }
   ],
   "source": [
    "df['test preparation course'].unique()"
   ]
  },
  {
   "cell_type": "code",
   "execution_count": 4,
   "id": "bffcfdea",
   "metadata": {},
   "outputs": [
    {
     "data": {
      "text/plain": [
       "gender                         category\n",
       "race/ethnicity                 category\n",
       "parental level of education    category\n",
       "lunch                          category\n",
       "test preparation course        category\n",
       "math score                        int64\n",
       "reading score                     int64\n",
       "writing score                     int64\n",
       "dtype: object"
      ]
     },
     "execution_count": 4,
     "metadata": {},
     "output_type": "execute_result"
    }
   ],
   "source": [
    "# Convert columns to catergorical\n",
    "categorical = ['gender', 'race/ethnicity', 'parental level of education', \"lunch\", \"test preparation course\"]\n",
    "\n",
    "for col in categorical:\n",
    "    df[col] = df[col].astype(\"category\")\n",
    "    \n",
    "df.dtypes"
   ]
  },
  {
   "cell_type": "code",
   "execution_count": 5,
   "id": "eeaf52f6",
   "metadata": {},
   "outputs": [
    {
     "name": "stdout",
     "output_type": "stream",
     "text": [
      "<class 'pandas.core.frame.DataFrame'>\n",
      "RangeIndex: 1000 entries, 0 to 999\n",
      "Data columns (total 8 columns):\n",
      " #   Column                       Non-Null Count  Dtype   \n",
      "---  ------                       --------------  -----   \n",
      " 0   gender                       1000 non-null   category\n",
      " 1   race/ethnicity               1000 non-null   category\n",
      " 2   parental_level_of_education  1000 non-null   category\n",
      " 3   lunch                        1000 non-null   category\n",
      " 4   test_preparation_course      1000 non-null   category\n",
      " 5   math_score                   1000 non-null   int64   \n",
      " 6   reading_score                1000 non-null   int64   \n",
      " 7   writing_score                1000 non-null   int64   \n",
      "dtypes: category(5), int64(3)\n",
      "memory usage: 29.2 KB\n"
     ]
    }
   ],
   "source": [
    "# Standardize the column names\n",
    "df.columns = df.columns.str.replace(' ', '_')\n",
    "\n",
    "df.info()"
   ]
  },
  {
   "cell_type": "markdown",
   "id": "fe9d440b",
   "metadata": {},
   "source": [
    "### 2. Outliers"
   ]
  },
  {
   "cell_type": "code",
   "execution_count": 6,
   "id": "f9ebcba6",
   "metadata": {},
   "outputs": [
    {
     "data": {
      "image/png": "[encoded data removed]",
      "text/plain": [
       "<Figure size 1000x600 with 1 Axes>"
      ]
     },
     "metadata": {},
     "output_type": "display_data"
    }
   ],
   "source": [
    "# box plot for Outlier\n",
    "plt.figure(figsize=(10, 6))\n",
    "sns.boxplot(data=df.select_dtypes([\"int64\"]))\n",
    "plt.title('Boxplot of Numeric Columns')\n",
    "plt.show()"
   ]
  },
  {
   "cell_type": "code",
   "execution_count": 7,
   "id": "dc0f0533",
   "metadata": {},
   "outputs": [
    {
     "name": "stdout",
     "output_type": "stream",
     "text": [
      "IQR Lower Range:  math_score       24.5\n",
      "reading_score    29.0\n",
      "writing_score    24.0\n",
      "dtype: float64\n",
      "\n",
      "IQR Upper Range:  math_score       108.5\n",
      "reading_score    109.0\n",
      "writing_score    112.0\n",
      "dtype: float64\n"
     ]
    },
    {
     "data": {
      "text/plain": [
       "14      0\n",
       "17     18\n",
       "40      0\n",
       "59      0\n",
       "83      0\n",
       "126     0\n",
       "145    22\n",
       "197     0\n",
       "282     0\n",
       "338    24\n",
       "787    19\n",
       "842    23\n",
       "963     0\n",
       "980     8\n",
       "Name: math_score, dtype: int64"
      ]
     },
     "execution_count": 7,
     "metadata": {},
     "output_type": "execute_result"
    }
   ],
   "source": [
    "# Display outliers based on the IQR\n",
    "numeric_cols = df.select_dtypes(include=['int64'])\n",
    "\n",
    "Q1 = numeric_cols.quantile(0.25)\n",
    "Q3 = numeric_cols.quantile(0.75)\n",
    "IQR = Q3 - Q1\n",
    "\n",
    "print(\"IQR Lower Range: \", Q1 - 1.5 * IQR)\n",
    "print(\"\\nIQR Upper Range: \", Q3 + 1.5 * IQR)\n",
    "\n",
    "\n",
    "outliers = ((numeric_cols < (Q1 - 1.5 * IQR)) | (numeric_cols > (Q3 + 1.5 * IQR)))\n",
    "\n",
    "numeric_cols['math_score'].loc[outliers['math_score'] == True]"
   ]
  },
  {
   "cell_type": "code",
   "execution_count": 8,
   "id": "16d72c53",
   "metadata": {},
   "outputs": [
    {
     "data": {
      "text/plain": [
       "8       0\n",
       "59     17\n",
       "69      0\n",
       "76     26\n",
       "115     0\n",
       "143     0\n",
       "161     0\n",
       "175     0\n",
       "211    28\n",
       "224     0\n",
       "242     0\n",
       "327    23\n",
       "596    24\n",
       "974     0\n",
       "975     0\n",
       "980    24\n",
       "996     0\n",
       "Name: reading_score, dtype: int64"
      ]
     },
     "execution_count": 8,
     "metadata": {},
     "output_type": "execute_result"
    }
   ],
   "source": [
    "numeric_cols['reading_score'].loc[outliers['reading_score'] == True]"
   ]
  },
  {
   "cell_type": "code",
   "execution_count": 9,
   "id": "d44627b8",
   "metadata": {},
   "outputs": [
    {
     "data": {
      "text/plain": [
       "23      0\n",
       "54      0\n",
       "59     10\n",
       "76     22\n",
       "96      0\n",
       "261     0\n",
       "327    19\n",
       "596    15\n",
       "980    23\n",
       "993     0\n",
       "Name: writing_score, dtype: int64"
      ]
     },
     "execution_count": 9,
     "metadata": {},
     "output_type": "execute_result"
    }
   ],
   "source": [
    "numeric_cols['writing_score'].loc[outliers['writing_score'] == True]"
   ]
  },
  {
   "cell_type": "code",
   "execution_count": 10,
   "id": "b2fda505",
   "metadata": {},
   "outputs": [],
   "source": [
    "# Drop the outliers and create new DatFrame from remaining data\n",
    "new_df = df.copy()\n",
    "\n",
    "new_df[numeric_cols.columns] = new_df[numeric_cols.columns].where(~outliers[numeric_cols.columns], np.nan)\n",
    "\n",
    "new_df.dropna(inplace=True)"
   ]
  },
  {
   "cell_type": "code",
   "execution_count": 11,
   "id": "b461ea07",
   "metadata": {},
   "outputs": [
    {
     "name": "stdout",
     "output_type": "stream",
     "text": [
      "<class 'pandas.core.frame.DataFrame'>\n",
      "Index: 966 entries, 0 to 999\n",
      "Data columns (total 8 columns):\n",
      " #   Column                       Non-Null Count  Dtype   \n",
      "---  ------                       --------------  -----   \n",
      " 0   gender                       966 non-null    category\n",
      " 1   race/ethnicity               966 non-null    category\n",
      " 2   parental_level_of_education  966 non-null    category\n",
      " 3   lunch                        966 non-null    category\n",
      " 4   test_preparation_course      966 non-null    category\n",
      " 5   math_score                   966 non-null    float64 \n",
      " 6   reading_score                966 non-null    float64 \n",
      " 7   writing_score                966 non-null    float64 \n",
      "dtypes: category(5), float64(3)\n",
      "memory usage: 35.7 KB\n"
     ]
    }
   ],
   "source": [
    "new_df.info()"
   ]
  },
  {
   "cell_type": "markdown",
   "id": "fdcd27ab",
   "metadata": {},
   "source": [
    "### 3. Data Transformations"
   ]
  },
  {
   "cell_type": "code",
   "execution_count": 12,
   "id": "4c1a0729",
   "metadata": {},
   "outputs": [
    {
     "data": {
      "image/png": "[encoded data removed]",
      "text/plain": [
       "<Figure size 1800x600 with 3 Axes>"
      ]
     },
     "metadata": {},
     "output_type": "display_data"
    },
    {
     "data": {
      "text/plain": [
       "math_score      -0.056621\n",
       "reading_score   -0.121892\n",
       "writing_score   -0.112473\n",
       "dtype: float64"
      ]
     },
     "execution_count": 12,
     "metadata": {},
     "output_type": "execute_result"
    }
   ],
   "source": [
    "import statistics as st\n",
    "\n",
    "def pdf(x, subject): \n",
    "    mean = np.mean(x) \n",
    "    std = np.std(x) \n",
    "    median = np.median(x)\n",
    "    mode = st.mode(x)\n",
    "    \n",
    "    y_out = (1 / (std * np.sqrt(2 * np.pi))) * np.exp(- (x - mean) ** 2 / (2 * std ** 2)) \n",
    "    return y_out, mean, median, mode\n",
    "\n",
    "subjects = [\"math_score\", \"reading_score\", \"writing_score\"]\n",
    "colors = [\"red\", \"green\", \"blue\"]\n",
    "\n",
    "fig, axes = plt.subplots(1, 3, figsize=(18, 6))\n",
    "\n",
    "for i, subject in enumerate(subjects):\n",
    "    x = np.array(new_df[subject])\n",
    "    y, mean, median, mode = pdf(x, subject)\n",
    "    \n",
    "    axes[i].scatter(x, y, marker='o', s=25, color=colors[i])\n",
    "    axes[i].set_title(f\"{subject.capitalize()} Distribution\")\n",
    "    axes[i].set_xlabel(f\"Mean: {mean:.2f} | Median: {median:.2f} | Mode: {mode:.2f}\")\n",
    "    axes[i].set_ylabel(\"Probability Density\")\n",
    "    axes[i].grid(True)\n",
    "\n",
    "plt.tight_layout()\n",
    "plt.show()\n",
    "\n",
    "new_df[[*subjects]].skew()"
   ]
  },
  {
   "cell_type": "markdown",
   "id": "5e1208f2-7c09-468e-9487-6250c5a241ca",
   "metadata": {},
   "source": [
    "Data is already normally distributed as mean ≈ median ≈ mode AND since -0.5 < skewness < 0.5 for all variables"
   ]
  },
  {
   "cell_type": "code",
   "execution_count": 13,
   "id": "7ef027bc",
   "metadata": {},
   "outputs": [
    {
     "data": {
      "text/html": [
       "<div>\n",
       "<style scoped>\n",
       "    .dataframe tbody tr th:only-of-type {\n",
       "        vertical-align: middle;\n",
       "    }\n",
       "\n",
       "    .dataframe tbody tr th {\n",
       "        vertical-align: top;\n",
       "    }\n",
       "\n",
       "    .dataframe thead th {\n",
       "        text-align: right;\n",
       "    }\n",
       "</style>\n",
       "<table border=\"1\" class=\"dataframe\">\n",
       "  <thead>\n",
       "    <tr style=\"text-align: right;\">\n",
       "      <th></th>\n",
       "      <th>math_standardized</th>\n",
       "      <th>reading_standardized</th>\n",
       "      <th>writing_standardized</th>\n",
       "    </tr>\n",
       "  </thead>\n",
       "  <tbody>\n",
       "    <tr>\n",
       "      <th>math_standardized</th>\n",
       "      <td>1.000000</td>\n",
       "      <td>0.80492</td>\n",
       "      <td>0.786311</td>\n",
       "    </tr>\n",
       "    <tr>\n",
       "      <th>reading_standardized</th>\n",
       "      <td>0.804920</td>\n",
       "      <td>1.00000</td>\n",
       "      <td>0.950880</td>\n",
       "    </tr>\n",
       "    <tr>\n",
       "      <th>writing_standardized</th>\n",
       "      <td>0.786311</td>\n",
       "      <td>0.95088</td>\n",
       "      <td>1.000000</td>\n",
       "    </tr>\n",
       "  </tbody>\n",
       "</table>\n",
       "</div>"
      ],
      "text/plain": [
       "                      math_standardized  reading_standardized  \\\n",
       "math_standardized              1.000000               0.80492   \n",
       "reading_standardized           0.804920               1.00000   \n",
       "writing_standardized           0.786311               0.95088   \n",
       "\n",
       "                      writing_standardized  \n",
       "math_standardized                 0.786311  \n",
       "reading_standardized              0.950880  \n",
       "writing_standardized              1.000000  "
      ]
     },
     "execution_count": 13,
     "metadata": {},
     "output_type": "execute_result"
    }
   ],
   "source": [
    "from sklearn.preprocessing import MinMaxScaler, StandardScaler\n",
    "\n",
    "# Initialize scalers\n",
    "minmax_scaler = MinMaxScaler()\n",
    "standard_scaler = StandardScaler()\n",
    "\n",
    "# Apply Min-Max Scaling (0 to 1 range)\n",
    "new_df[\"math_scaled\"] = minmax_scaler.fit_transform(new_df[[\"math_score\"]])\n",
    "new_df[\"reading_scaled\"] = minmax_scaler.fit_transform(new_df[[\"reading_score\"]])\n",
    "new_df[\"writing_scaled\"] = minmax_scaler.fit_transform(new_df[[\"writing_score\"]])\n",
    "\n",
    "# Apply Z-score Standardization (mean = 0, std = 1)\n",
    "new_df[\"math_standardized\"] = standard_scaler.fit_transform(new_df[[\"math_score\"]])\n",
    "new_df[\"reading_standardized\"] = standard_scaler.fit_transform(new_df[[\"reading_score\"]])\n",
    "new_df[\"writing_standardized\"] = standard_scaler.fit_transform(new_df[[\"writing_score\"]])\n",
    "\n",
    "new_df[['math_standardized', 'reading_standardized', 'writing_standardized']].corr()"
   ]
  },
  {
   "cell_type": "markdown",
   "id": "826a16c3-76e2-4fb3-beb1-83427c80fc3b",
   "metadata": {},
   "source": [
    "Strong positive correlations exist between all three scores:\n",
    "- Math & Reading: 0.80 (strong linear relationship)\n",
    "- Math & Writing: 0.78 (strong linear relationship)\n",
    "- Reading & Writing: 0.95 (strongest linear relationship)"
   ]
  },
  {
   "cell_type": "code",
   "execution_count": 14,
   "id": "b1106af6-fe17-48ea-93ab-dd94cf865706",
   "metadata": {},
   "outputs": [
    {
     "data": {
      "text/html": [
       "<div>\n",
       "<style scoped>\n",
       "    .dataframe tbody tr th:only-of-type {\n",
       "        vertical-align: middle;\n",
       "    }\n",
       "\n",
       "    .dataframe tbody tr th {\n",
       "        vertical-align: top;\n",
       "    }\n",
       "\n",
       "    .dataframe thead th {\n",
       "        text-align: right;\n",
       "    }\n",
       "</style>\n",
       "<table border=\"1\" class=\"dataframe\">\n",
       "  <thead>\n",
       "    <tr style=\"text-align: right;\">\n",
       "      <th></th>\n",
       "      <th>gender</th>\n",
       "      <th>race/ethnicity</th>\n",
       "      <th>parental_level_of_education</th>\n",
       "      <th>lunch</th>\n",
       "      <th>test_preparation_course</th>\n",
       "      <th>math_score</th>\n",
       "      <th>reading_score</th>\n",
       "      <th>writing_score</th>\n",
       "      <th>math_scaled</th>\n",
       "      <th>reading_scaled</th>\n",
       "      <th>writing_scaled</th>\n",
       "      <th>math_standardized</th>\n",
       "      <th>reading_standardized</th>\n",
       "      <th>writing_standardized</th>\n",
       "    </tr>\n",
       "  </thead>\n",
       "  <tbody>\n",
       "    <tr>\n",
       "      <th>0</th>\n",
       "      <td>female</td>\n",
       "      <td>group B</td>\n",
       "      <td>bachelor's degree</td>\n",
       "      <td>standard</td>\n",
       "      <td>none</td>\n",
       "      <td>72.0</td>\n",
       "      <td>72.0</td>\n",
       "      <td>74.0</td>\n",
       "      <td>0.621622</td>\n",
       "      <td>0.605634</td>\n",
       "      <td>0.643836</td>\n",
       "      <td>0.368917</td>\n",
       "      <td>0.168284</td>\n",
       "      <td>0.373721</td>\n",
       "    </tr>\n",
       "    <tr>\n",
       "      <th>1</th>\n",
       "      <td>female</td>\n",
       "      <td>group C</td>\n",
       "      <td>some college</td>\n",
       "      <td>standard</td>\n",
       "      <td>completed</td>\n",
       "      <td>69.0</td>\n",
       "      <td>90.0</td>\n",
       "      <td>88.0</td>\n",
       "      <td>0.581081</td>\n",
       "      <td>0.859155</td>\n",
       "      <td>0.835616</td>\n",
       "      <td>0.162364</td>\n",
       "      <td>1.444955</td>\n",
       "      <td>1.332408</td>\n",
       "    </tr>\n",
       "    <tr>\n",
       "      <th>2</th>\n",
       "      <td>female</td>\n",
       "      <td>group B</td>\n",
       "      <td>master's degree</td>\n",
       "      <td>standard</td>\n",
       "      <td>none</td>\n",
       "      <td>90.0</td>\n",
       "      <td>95.0</td>\n",
       "      <td>93.0</td>\n",
       "      <td>0.864865</td>\n",
       "      <td>0.929577</td>\n",
       "      <td>0.904110</td>\n",
       "      <td>1.608240</td>\n",
       "      <td>1.799586</td>\n",
       "      <td>1.674796</td>\n",
       "    </tr>\n",
       "    <tr>\n",
       "      <th>3</th>\n",
       "      <td>male</td>\n",
       "      <td>group A</td>\n",
       "      <td>associate's degree</td>\n",
       "      <td>free/reduced</td>\n",
       "      <td>none</td>\n",
       "      <td>47.0</td>\n",
       "      <td>57.0</td>\n",
       "      <td>44.0</td>\n",
       "      <td>0.283784</td>\n",
       "      <td>0.394366</td>\n",
       "      <td>0.232877</td>\n",
       "      <td>-1.352364</td>\n",
       "      <td>-0.895608</td>\n",
       "      <td>-1.680609</td>\n",
       "    </tr>\n",
       "    <tr>\n",
       "      <th>4</th>\n",
       "      <td>male</td>\n",
       "      <td>group C</td>\n",
       "      <td>some college</td>\n",
       "      <td>standard</td>\n",
       "      <td>none</td>\n",
       "      <td>76.0</td>\n",
       "      <td>78.0</td>\n",
       "      <td>75.0</td>\n",
       "      <td>0.675676</td>\n",
       "      <td>0.690141</td>\n",
       "      <td>0.657534</td>\n",
       "      <td>0.644322</td>\n",
       "      <td>0.593841</td>\n",
       "      <td>0.442198</td>\n",
       "    </tr>\n",
       "    <tr>\n",
       "      <th>5</th>\n",
       "      <td>female</td>\n",
       "      <td>group B</td>\n",
       "      <td>associate's degree</td>\n",
       "      <td>standard</td>\n",
       "      <td>none</td>\n",
       "      <td>71.0</td>\n",
       "      <td>83.0</td>\n",
       "      <td>78.0</td>\n",
       "      <td>0.608108</td>\n",
       "      <td>0.760563</td>\n",
       "      <td>0.698630</td>\n",
       "      <td>0.300066</td>\n",
       "      <td>0.948472</td>\n",
       "      <td>0.647631</td>\n",
       "    </tr>\n",
       "    <tr>\n",
       "      <th>6</th>\n",
       "      <td>female</td>\n",
       "      <td>group B</td>\n",
       "      <td>some college</td>\n",
       "      <td>standard</td>\n",
       "      <td>completed</td>\n",
       "      <td>88.0</td>\n",
       "      <td>95.0</td>\n",
       "      <td>92.0</td>\n",
       "      <td>0.837838</td>\n",
       "      <td>0.929577</td>\n",
       "      <td>0.890411</td>\n",
       "      <td>1.470538</td>\n",
       "      <td>1.799586</td>\n",
       "      <td>1.606318</td>\n",
       "    </tr>\n",
       "    <tr>\n",
       "      <th>7</th>\n",
       "      <td>male</td>\n",
       "      <td>group B</td>\n",
       "      <td>some college</td>\n",
       "      <td>free/reduced</td>\n",
       "      <td>none</td>\n",
       "      <td>40.0</td>\n",
       "      <td>43.0</td>\n",
       "      <td>39.0</td>\n",
       "      <td>0.189189</td>\n",
       "      <td>0.197183</td>\n",
       "      <td>0.164384</td>\n",
       "      <td>-1.834323</td>\n",
       "      <td>-1.888574</td>\n",
       "      <td>-2.022997</td>\n",
       "    </tr>\n",
       "    <tr>\n",
       "      <th>9</th>\n",
       "      <td>female</td>\n",
       "      <td>group B</td>\n",
       "      <td>high school</td>\n",
       "      <td>free/reduced</td>\n",
       "      <td>none</td>\n",
       "      <td>38.0</td>\n",
       "      <td>60.0</td>\n",
       "      <td>50.0</td>\n",
       "      <td>0.162162</td>\n",
       "      <td>0.436620</td>\n",
       "      <td>0.315068</td>\n",
       "      <td>-1.972026</td>\n",
       "      <td>-0.682830</td>\n",
       "      <td>-1.269743</td>\n",
       "    </tr>\n",
       "    <tr>\n",
       "      <th>10</th>\n",
       "      <td>male</td>\n",
       "      <td>group C</td>\n",
       "      <td>associate's degree</td>\n",
       "      <td>standard</td>\n",
       "      <td>none</td>\n",
       "      <td>58.0</td>\n",
       "      <td>54.0</td>\n",
       "      <td>52.0</td>\n",
       "      <td>0.432432</td>\n",
       "      <td>0.352113</td>\n",
       "      <td>0.342466</td>\n",
       "      <td>-0.595000</td>\n",
       "      <td>-1.108386</td>\n",
       "      <td>-1.132788</td>\n",
       "    </tr>\n",
       "  </tbody>\n",
       "</table>\n",
       "</div>"
      ],
      "text/plain": [
       "    gender race/ethnicity parental_level_of_education         lunch  \\\n",
       "0   female        group B           bachelor's degree      standard   \n",
       "1   female        group C                some college      standard   \n",
       "2   female        group B             master's degree      standard   \n",
       "3     male        group A          associate's degree  free/reduced   \n",
       "4     male        group C                some college      standard   \n",
       "5   female        group B          associate's degree      standard   \n",
       "6   female        group B                some college      standard   \n",
       "7     male        group B                some college  free/reduced   \n",
       "9   female        group B                 high school  free/reduced   \n",
       "10    male        group C          associate's degree      standard   \n",
       "\n",
       "   test_preparation_course  math_score  reading_score  writing_score  \\\n",
       "0                     none        72.0           72.0           74.0   \n",
       "1                completed        69.0           90.0           88.0   \n",
       "2                     none        90.0           95.0           93.0   \n",
       "3                     none        47.0           57.0           44.0   \n",
       "4                     none        76.0           78.0           75.0   \n",
       "5                     none        71.0           83.0           78.0   \n",
       "6                completed        88.0           95.0           92.0   \n",
       "7                     none        40.0           43.0           39.0   \n",
       "9                     none        38.0           60.0           50.0   \n",
       "10                    none        58.0           54.0           52.0   \n",
       "\n",
       "    math_scaled  reading_scaled  writing_scaled  math_standardized  \\\n",
       "0      0.621622        0.605634        0.643836           0.368917   \n",
       "1      0.581081        0.859155        0.835616           0.162364   \n",
       "2      0.864865        0.929577        0.904110           1.608240   \n",
       "3      0.283784        0.394366        0.232877          -1.352364   \n",
       "4      0.675676        0.690141        0.657534           0.644322   \n",
       "5      0.608108        0.760563        0.698630           0.300066   \n",
       "6      0.837838        0.929577        0.890411           1.470538   \n",
       "7      0.189189        0.197183        0.164384          -1.834323   \n",
       "9      0.162162        0.436620        0.315068          -1.972026   \n",
       "10     0.432432        0.352113        0.342466          -0.595000   \n",
       "\n",
       "    reading_standardized  writing_standardized  \n",
       "0               0.168284              0.373721  \n",
       "1               1.444955              1.332408  \n",
       "2               1.799586              1.674796  \n",
       "3              -0.895608             -1.680609  \n",
       "4               0.593841              0.442198  \n",
       "5               0.948472              0.647631  \n",
       "6               1.799586              1.606318  \n",
       "7              -1.888574             -2.022997  \n",
       "9              -0.682830             -1.269743  \n",
       "10             -1.108386             -1.132788  "
      ]
     },
     "execution_count": 14,
     "metadata": {},
     "output_type": "execute_result"
    }
   ],
   "source": [
    "new_df.head(10)"
   ]
  }
 ],
 "metadata": {
  "kernelspec": {
   "display_name": "Python 3 (ipykernel)",
   "language": "python",
   "name": "python3"
  },
  "language_info": {
   "codemirror_mode": {
    "name": "ipython",
    "version": 3
   },
   "file_extension": ".py",
   "mimetype": "text/x-python",
   "name": "python",
   "nbconvert_exporter": "python",
   "pygments_lexer": "ipython3",
   "version": "3.9.7"
  }
 },
 "nbformat": 4,
 "nbformat_minor": 5
}
