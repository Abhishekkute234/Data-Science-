{
 "cells": [
  {
   "cell_type": "code",
   "execution_count": null,
   "id": "d92bc8d0",
   "metadata": {},
   "outputs": [],
   "source": [
    "import pandas as pd\n",
    "import numpy as np\n",
    "import matplotlib.pyplot as plt\n",
    "import seaborn as sns\n",
    "from sklearn.model_selection import train_test_split\n",
    "from sklearn.preprocessing import StandardScaler, LabelEncoder\n",
    "from sklearn.linear_model import LogisticRegression\n",
    "from sklearn.metrics import confusion_matrix, accuracy_score, precision_score, recall_score"
   ]
  },
  {
   "cell_type": "code",
   "execution_count": null,
   "id": "0e2d02de",
   "metadata": {},
   "outputs": [],
   "source": [
    "# Load the dataset\n",
    "df = pd.read_csv(\"cleaned_social_network_ads.csv\")\n",
    "\n",
    "# Display first 5 rows of dataset\n",
    "print(\"Sample Data:\\n\", df.head())"
   ]
  },
  {
   "cell_type": "code",
   "execution_count": null,
   "id": "ffa003d5",
   "metadata": {},
   "outputs": [],
   "source": [
    "# Encode categorical variable (Gender)\n",
    "label_encoder = LabelEncoder()\n",
    "df['Gender'] = label_encoder.fit_transform(df['Gender'])  # Male = 1, Female = 0"
   ]
  },
  {
   "cell_type": "code",
   "execution_count": null,
   "id": "e18ced11",
   "metadata": {},
   "outputs": [],
   "source": [
    "# Split data into features and target variable\n",
    "X = df[['Age', 'Gender', 'EstimatedSalary']]\n",
    "y = df['Purchased']"
   ]
  },
  {
   "cell_type": "code",
   "execution_count": null,
   "id": "17b9a96e",
   "metadata": {},
   "outputs": [],
   "source": [
    "# Split into training and test sets\n",
    "X_train, X_test, y_train, y_test = train_test_split(X, y, test_size=0.25, random_state=42)"
   ]
  },
  {
   "cell_type": "code",
   "execution_count": null,
   "id": "b28c0c2c",
   "metadata": {},
   "outputs": [],
   "source": [
    "# Feature scaling\n",
    "scaler = StandardScaler()\n",
    "X_train = scaler.fit_transform(X_train)\n",
    "X_test = scaler.transform(X_test)\n",
    "print(\"\\nFeature Scaling Formula: X_scaled = (X - mean) / std_dev\")"
   ]
  },
  {
   "cell_type": "code",
   "execution_count": null,
   "id": "70b650e0",
   "metadata": {},
   "outputs": [],
   "source": [
    "# Train Logistic Regression model\n",
    "classifier = LogisticRegression(random_state=42)\n",
    "classifier.fit(X_train, y_train)"
   ]
  },
  {
   "cell_type": "code",
   "execution_count": null,
   "id": "80da86d4",
   "metadata": {},
   "outputs": [],
   "source": [
    "# Predict on test set\n",
    "y_pred = classifier.predict(X_test)\n",
    "y_prob = classifier.predict_proba(X_test)[:, 1]  # Get probabilities for class 1 (Purchased)"
   ]
  },
  {
   "cell_type": "code",
   "execution_count": null,
   "id": "11ee7bfb",
   "metadata": {},
   "outputs": [],
   "source": [
    "# Compute confusion matrix\n",
    "cm = confusion_matrix(y_test, y_pred)\n",
    "TP = cm[1, 1]\n",
    "FP = cm[0, 1]\n",
    "TN = cm[0, 0]\n",
    "FN = cm[1, 0]"
   ]
  },
  {
   "cell_type": "code",
   "execution_count": null,
   "id": "6dc4104d",
   "metadata": {},
   "outputs": [],
   "source": [
    "# Compute evaluation metrics\n",
    "accuracy = accuracy_score(y_test, y_pred)\n",
    "error_rate = 1 - accuracy\n",
    "precision = precision_score(y_test, y_pred, zero_division=1)\n",
    "recall = recall_score(y_test, y_pred, zero_division=1)"
   ]
  },
  {
   "cell_type": "code",
   "execution_count": null,
   "id": "e359a65c",
   "metadata": {},
   "outputs": [],
   "source": [
    "print(\"\\nConfusion Matrix:\\n\", cm)\n",
    "print(f\"\\nAccuracy: {accuracy:.2f} (Formula: (TP + TN) / (TP + FP + TN + FN))\")\n",
    "print(f\"Error Rate: {error_rate:.2f} (Formula: 1 - Accuracy)\")\n",
    "print(f\"Precision: {precision:.2f} (Formula: TP / (TP + FP))\")\n",
    "print(f\"Recall: {recall:.2f} (Formula: TP / (TP + FN))\")"
   ]
  },
  {
   "cell_type": "code",
   "execution_count": null,
   "id": "095e3c92",
   "metadata": {},
   "outputs": [],
   "source": [
    "# Display some predictions with their probabilities\n",
    "df_results = pd.DataFrame({\"Actual\": y_test.values, \"Predicted\": y_pred, \"Probability\": y_prob})\n",
    "print(\"\\nSample Predictions with Probability:\\n\", df_results.head())"
   ]
  },
  {
   "cell_type": "code",
   "execution_count": null,
   "id": "c6083b07",
   "metadata": {},
   "outputs": [],
   "source": [
    "# Plot confusion matrix\n",
    "plt.figure(figsize=(6, 4))\n",
    "sns.heatmap(cm, annot=True, fmt='d', cmap='Blues', xticklabels=['Not Purchased', 'Purchased'], yticklabels=['Not Purchased', 'Purchased'])\n",
    "plt.xlabel('Predicted')\n",
    "plt.ylabel('Actual')\n",
    "plt.title('Confusion Matrix')\n",
    "plt.show()"
   ]
  }
 ],
 "metadata": {},
 "nbformat": 4,
 "nbformat_minor": 5
}